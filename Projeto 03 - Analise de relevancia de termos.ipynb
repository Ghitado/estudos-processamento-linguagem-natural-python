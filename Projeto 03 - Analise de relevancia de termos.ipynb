{
  "cells": [
    {
      "cell_type": "markdown",
      "metadata": {
        "colab_type": "text",
        "id": "view-in-github"
      },
      "source": [
        "<a href=\"https://colab.research.google.com/github/gucardos/PLN_6sem/blob/main/PRJ_03_PLN.ipynb\" target=\"_parent\"><img src=\"https://colab.research.google.com/assets/colab-badge.svg\" alt=\"Open In Colab\"/></a>"
      ]
    },
    {
      "cell_type": "markdown",
      "metadata": {
        "id": "CaUHOlGwseUc"
      },
      "source": [
        "# <b>Projeto 03</b> - Análise de relevância de termos"
      ]
    },
    {
      "cell_type": "markdown",
      "metadata": {
        "id": "Q_VjIMjeswA9"
      },
      "source": [
        "## Primeira etapa - Carregamento do arquivo"
      ]
    },
    {
      "cell_type": "code",
      "execution_count": null,
      "metadata": {
        "colab": {
          "base_uri": "https://localhost:8080/"
        },
        "id": "apCPLl1csc2p",
        "outputId": "586f555d-3eec-4cf3-8f76-3b4f71bf1758"
      },
      "outputs": [
        {
          "name": "stderr",
          "output_type": "stream",
          "text": [
            "[nltk_data] Downloading package machado to /root/nltk_data...\n"
          ]
        },
        {
          "name": "stdout",
          "output_type": "stream",
          "text": [
            "Arquivo /root/nltk_data/corpora/machado.zip descompactado em: /root/nltk_data/corpora/\n"
          ]
        }
      ],
      "source": [
        "import zipfile\n",
        "import os\n",
        "import nltk\n",
        "from nltk.corpus import machado\n",
        "\n",
        "# Baixando no drive a corpora de machado de assis\n",
        "nltk.download('machado')\n",
        "\n",
        "# Extraindo arquivos dos corpus\n",
        "caminho_do_zip = '/root/nltk_data/corpora/machado.zip'\n",
        "pasta_destino = '/root/nltk_data/corpora/'\n",
        "\n",
        "# Cria a pasta de destino caso não exista\n",
        "os.makedirs(pasta_destino, exist_ok=True)\n",
        "\n",
        "arquivo_zip = zipfile.ZipFile(caminho_do_zip, 'r')\n",
        "arquivo_zip.extractall(pasta_destino)\n",
        "\n",
        "print(f\"Arquivo {caminho_do_zip} descompactado em: {pasta_destino}\")"
      ]
    },
    {
      "cell_type": "markdown",
      "metadata": {
        "id": "cRL6wFrAs57x"
      },
      "source": [
        "## Segunda etapa - Limpeza e preparação do arquivo"
      ]
    },
    {
      "cell_type": "code",
      "execution_count": null,
      "metadata": {
        "id": "HozQjnTQuu1U"
      },
      "outputs": [],
      "source": [
        "# Função para a leitura dos arquivos a serem utilizados\n",
        "def ler(nome_arquivo):\n",
        "  arquivo = open(nome_arquivo, 'r', encoding='ISO-8859-1')\n",
        "  conteudo_arq = arquivo.read()\n",
        "  arquivo.close()\n",
        "  return conteudo_arq"
      ]
    },
    {
      "cell_type": "code",
      "execution_count": null,
      "metadata": {
        "id": "g3KIeC7kExrA"
      },
      "outputs": [],
      "source": [
        "# Função de limpeza de textos em lista\n",
        "def limpar(lista):\n",
        "  lixo = '.,:;?!\"´`^~()[]{}/\\|@#$%¨&*-'\n",
        "  quase_limpo = [x.strip(lixo).lower() for x in lista]\n",
        "  return [x for x in quase_limpo if x.isalpha() or '-' not in x]"
      ]
    },
    {
      "cell_type": "code",
      "execution_count": null,
      "metadata": {
        "colab": {
          "base_uri": "https://localhost:8080/"
        },
        "collapsed": true,
        "id": "hZCH9ILIGiq8",
        "outputId": "de1baf1a-fb13-4a21-ce32-c4b4e647c1f1"
      },
      "outputs": [
        {
          "name": "stdout",
          "output_type": "stream",
          "text": [
            "/root/nltk_data/corpora/machado/romance/marm01.txt\n",
            "/root/nltk_data/corpora/machado/romance/marm02.txt\n",
            "/root/nltk_data/corpora/machado/romance/marm03.txt\n",
            "/root/nltk_data/corpora/machado/romance/marm04.txt\n",
            "/root/nltk_data/corpora/machado/romance/marm05.txt\n",
            "/root/nltk_data/corpora/machado/romance/marm06.txt\n",
            "/root/nltk_data/corpora/machado/romance/marm07.txt\n",
            "/root/nltk_data/corpora/machado/romance/marm08.txt\n",
            "/root/nltk_data/corpora/machado/romance/marm09.txt\n"
          ]
        }
      ],
      "source": [
        "# Obtenção dos arquivos para serem analisados\n",
        "obras = []\n",
        "\n",
        "for i in range(1,10):\n",
        "  obras.append('/root/nltk_data/corpora/machado/romance/marm0' + str(i) + '.txt')\n",
        "\n",
        "colecao = []\n",
        "\n",
        "for obra in obras:\n",
        "  print(obra)\n",
        "  texto = ler(obra)\n",
        "  palavras = limpar(texto.lower().split())\n",
        "  colecao.append(palavras)"
      ]
    },
    {
      "cell_type": "markdown",
      "metadata": {
        "id": "SlgPdAaLtDwZ"
      },
      "source": [
        "## Terceira etapa - Criação dos calculos"
      ]
    },
    {
      "cell_type": "code",
      "execution_count": null,
      "metadata": {
        "id": "NbjtpIfCuva7"
      },
      "outputs": [],
      "source": [
        "import math\n",
        "\n",
        "def tf(termo,doc):\n",
        "  return colecao[doc].count(termo)\n",
        "\n",
        "def df(termo):\n",
        "  return len([d for d in colecao if termo in d])\n",
        "\n",
        "def idf(termo):\n",
        "  return math.log10(len(colecao)/df(termo))\n",
        "\n",
        "def tf_idf(termo,doc):\n",
        "  return tf(termo,doc)*idf(termo)"
      ]
    },
    {
      "cell_type": "markdown",
      "metadata": {
        "id": "mXlEWmRctQLj"
      },
      "source": [
        "## Quarta etapa - Experimentação dos cálculos"
      ]
    },
    {
      "cell_type": "code",
      "execution_count": null,
      "metadata": {
        "colab": {
          "base_uri": "https://localhost:8080/"
        },
        "id": "5Tmbu9YHuwxd",
        "outputId": "e5725aac-02ed-472a-f7ef-149ac9e88586"
      },
      "outputs": [
        {
          "data": {
            "text/plain": [
              "9"
            ]
          },
          "execution_count": 9,
          "metadata": {},
          "output_type": "execute_result"
        }
      ],
      "source": [
        "df('que')"
      ]
    },
    {
      "cell_type": "code",
      "execution_count": null,
      "metadata": {
        "colab": {
          "base_uri": "https://localhost:8080/"
        },
        "id": "CN2bXBvBVLcX",
        "outputId": "bbf04556-92fc-4443-ed9b-f991e663afe6"
      },
      "outputs": [
        {
          "data": {
            "text/plain": [
              "5"
            ]
          },
          "execution_count": 10,
          "metadata": {},
          "output_type": "execute_result"
        }
      ],
      "source": [
        "df('luva')"
      ]
    },
    {
      "cell_type": "code",
      "execution_count": null,
      "metadata": {
        "colab": {
          "base_uri": "https://localhost:8080/"
        },
        "id": "uOVx9T-IVX-B",
        "outputId": "7c7902cb-85a4-4124-ce3b-bd751d09d6e1"
      },
      "outputs": [
        {
          "data": {
            "text/plain": [
              "0.25527250510330607"
            ]
          },
          "execution_count": 12,
          "metadata": {},
          "output_type": "execute_result"
        }
      ],
      "source": [
        "tf_idf('luva',2)"
      ]
    },
    {
      "cell_type": "code",
      "execution_count": null,
      "metadata": {
        "colab": {
          "base_uri": "https://localhost:8080/"
        },
        "id": "595JdflwWLGY",
        "outputId": "62b03fd7-4182-4d75-d2b6-b87568261c31"
      },
      "outputs": [
        {
          "data": {
            "text/plain": [
              "0.05115252244738129"
            ]
          },
          "execution_count": 13,
          "metadata": {},
          "output_type": "execute_result"
        }
      ],
      "source": [
        "tf_idf('latim',1)"
      ]
    },
    {
      "cell_type": "code",
      "execution_count": null,
      "metadata": {
        "id": "ekazfPc4WTZy"
      },
      "outputs": [],
      "source": [
        "def relevantes(doc):\n",
        "  lista_total = [(tf_idf(p,doc),p) for p in set(colecao[doc])]\n",
        "\n",
        "  return sorted(lista_total,reverse=True)[:10]"
      ]
    },
    {
      "cell_type": "code",
      "execution_count": null,
      "metadata": {
        "id": "FMLJoy5NXq1A"
      },
      "outputs": [],
      "source": [
        "mr = relevantes(1)"
      ]
    },
    {
      "cell_type": "code",
      "execution_count": null,
      "metadata": {
        "colab": {
          "base_uri": "https://localhost:8080/"
        },
        "id": "dNfbbzgtXyky",
        "outputId": "76a60a64-fcd1-4f0a-de6e-6a64239ec231"
      },
      "outputs": [
        {
          "data": {
            "text/plain": [
              "[(276.7303277374042, 'guiomar'),\n",
              " (164.12971162356388, 'estevão'),\n",
              " (148.82387047522744, '\\x97'),\n",
              " (94.71581449742484, 'alves'),\n",
              " (87.79031086841789, 'oswald'),\n",
              " (86.83606835897857, 'mrs'),\n",
              " (60.748763781106966, 'jorge'),\n",
              " (43.65159837266534, 'baronesa'),\n",
              " (24.810305245422448, 'inglesa'),\n",
              " (9.144975192854812, 'afilhada')]"
            ]
          },
          "execution_count": 16,
          "metadata": {},
          "output_type": "execute_result"
        }
      ],
      "source": [
        "mr"
      ]
    }
  ],
  "metadata": {
    "colab": {
      "authorship_tag": "ABX9TyM52hsahlPJ/9iZD6/9c2Ec",
      "include_colab_link": true,
      "provenance": []
    },
    "kernelspec": {
      "display_name": "Python 3",
      "name": "python3"
    },
    "language_info": {
      "name": "python"
    }
  },
  "nbformat": 4,
  "nbformat_minor": 0
}
