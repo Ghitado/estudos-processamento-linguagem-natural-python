{
 "cells": [
  {
   "cell_type": "markdown",
   "metadata": {
    "id": "IssG5kOqGOQf"
   },
   "source": [
    "# Aula 10 - Análise de Sentimentos e Classificação de Texto\n",
    "\n",
    "**Objetivo do notebook:**\n",
    "Compreender e aplicar técnicas de análise de sentimentos e classificação de textos, utilizando abordagens estatísticas e linguísticas.\n",
    "\n",
    "**Técnicas de PLN implementadas:**\n",
    "\n",
    "- Análise de sentimentos com NLTK\n",
    "\n",
    "- Classificação de textos com base no Teorema de Bayes (Naive Bayes)\n",
    "\n",
    "- Cálculo de probabilidades com suavização\n",
    "\n",
    "- Classificação binária de textos com rótulos positivos e negativos\n",
    "\n",
    "**Observações:**\n",
    "Essas técnicas são amplamente usadas em contextos como análise de feedbacks, opiniões de usuários, detecção de spam e categorização de documentos. A análise automática do sentimento permite obter insights relevantes sobre a percepção de pessoas em relação a produtos, serviços ou eventos."
   ]
  },
  {
   "cell_type": "markdown",
   "metadata": {},
   "source": [
    "## Exemplo 01"
   ]
  },
  {
   "cell_type": "markdown",
   "metadata": {},
   "source": [
    "### Etapa 01 – Importação das bibliotecas e corpus para realizar a analise"
   ]
  },
  {
   "cell_type": "code",
   "execution_count": null,
   "metadata": {
    "colab": {
     "base_uri": "https://localhost:8080/"
    },
    "executionInfo": {
     "elapsed": 10478,
     "status": "ok",
     "timestamp": 1749597233678,
     "user": {
      "displayName": "Renato Fernandes da Silva",
      "userId": "04925174934703783000"
     },
     "user_tz": 180
    },
    "id": "WOjbuevDFYB_",
    "outputId": "3d8c9f1a-dd71-43ea-df12-cd696273fede"
   },
   "outputs": [
    {
     "name": "stderr",
     "output_type": "stream",
     "text": [
      "[nltk_data] Downloading package vader_lexicon to /root/nltk_data...\n",
      "[nltk_data] Downloading package punkt to /root/nltk_data...\n",
      "[nltk_data]   Unzipping tokenizers/punkt.zip.\n"
     ]
    },
    {
     "data": {
      "text/plain": [
       "True"
      ]
     },
     "execution_count": 1,
     "metadata": {},
     "output_type": "execute_result"
    }
   ],
   "source": [
    "import nltk\n",
    "from nltk.sentiment.vader import SentimentIntensityAnalyzer\n",
    "\n",
    "# Certifica se baixou os recursos necessários do NLTK\n",
    "nltk.download('vader_lexicon')\n",
    "nltk.download('punkt')\n"
   ]
  },
  {
   "cell_type": "markdown",
   "metadata": {
    "id": "es8K2wQkF4kU"
   },
   "source": [
    "### Etapa 02 – Inicialização do objeto que realiza a analise e o texto a ser analisado"
   ]
  },
  {
   "cell_type": "code",
   "execution_count": null,
   "metadata": {
    "executionInfo": {
     "elapsed": 50,
     "status": "ok",
     "timestamp": 1749597255558,
     "user": {
      "displayName": "Renato Fernandes da Silva",
      "userId": "04925174934703783000"
     },
     "user_tz": 180
    },
    "id": "unTlPDnoGDVw"
   },
   "outputs": [],
   "source": [
    "sid = SentimentIntensityAnalyzer()\n",
    "\n",
    "textos = [\n",
    "    \"Este filme é incrível! Eu adorei cada minuto.\",\n",
    "    \"Odiei este filme. Foi uma perda de tempo.\",\n",
    "    \"O filme foi ok, nada de especial.\",\n",
    "    \"Estou muito feliz com o produto, funciona perfeitamente!\",\n",
    "    \"Que serviço horrível! Nunca mais compro nessa loja.\"\n",
    "]\n"
   ]
  },
  {
   "cell_type": "markdown",
   "metadata": {
    "id": "5T-_yXcHGJVz"
   },
   "source": [
    "### Etapa 03 – Analisando os sentimentos dos textos fornecidos"
   ]
  },
  {
   "cell_type": "code",
   "execution_count": null,
   "metadata": {
    "colab": {
     "base_uri": "https://localhost:8080/"
    },
    "executionInfo": {
     "elapsed": 30,
     "status": "ok",
     "timestamp": 1749597258073,
     "user": {
      "displayName": "Renato Fernandes da Silva",
      "userId": "04925174934703783000"
     },
     "user_tz": 180
    },
    "id": "VTpB3QqWGPNH",
    "outputId": "844f8a79-943a-4e0a-e749-cbef4ce8b054"
   },
   "outputs": [
    {
     "name": "stdout",
     "output_type": "stream",
     "text": [
      "Texto: Este filme é incrível! Eu adorei cada minuto.\n",
      "Pontuação: {'neg': 0.0, 'neu': 1.0, 'pos': 0.0, 'compound': 0.0}\n",
      "Sentimento: Neutro\n",
      "\n",
      "\n",
      "Texto: Odiei este filme. Foi uma perda de tempo.\n",
      "Pontuação: {'neg': 0.0, 'neu': 1.0, 'pos': 0.0, 'compound': 0.0}\n",
      "Sentimento: Neutro\n",
      "\n",
      "\n",
      "Texto: O filme foi ok, nada de especial.\n",
      "Pontuação: {'neg': 0.0, 'neu': 0.694, 'pos': 0.306, 'compound': 0.296}\n",
      "Sentimento: Positivo\n",
      "\n",
      "\n",
      "Texto: Estou muito feliz com o produto, funciona perfeitamente!\n",
      "Pontuação: {'neg': 0.0, 'neu': 1.0, 'pos': 0.0, 'compound': 0.0}\n",
      "Sentimento: Neutro\n",
      "\n",
      "\n",
      "Texto: Que serviço horrível! Nunca mais compro nessa loja.\n",
      "Pontuação: {'neg': 0.0, 'neu': 1.0, 'pos': 0.0, 'compound': 0.0}\n",
      "Sentimento: Neutro\n",
      "\n",
      "\n"
     ]
    }
   ],
   "source": [
    "for texto in textos:\n",
    "    print(f\"Texto: {texto}\")\n",
    "    ss = sid.polarity_scores(texto)\n",
    "    print(f\"Pontuação: {ss}\")\n",
    "    if ss['compound'] >= 0.05:\n",
    "        print(\"Sentimento: Positivo\")\n",
    "    elif ss['compound'] <= -0.05:\n",
    "        print(\"Sentimento: Negativo\")\n",
    "    else:\n",
    "        print(\"Sentimento: Neutro\")\n",
    "    print(\"\\n\")"
   ]
  },
  {
   "cell_type": "markdown",
   "metadata": {
    "id": "cUUDPyd5GWeR"
   },
   "source": [
    "## Exemplo 02 - Análise de sentimentos de Avaliações de Filmes com Naives Bayes"
   ]
  },
  {
   "cell_type": "markdown",
   "metadata": {
    "id": "slYxTaCxGj2i"
   },
   "source": [
    "### Etapa 01: Criação de funções que calculam a quantidade de palavras, e as probabilidades"
   ]
  },
  {
   "cell_type": "code",
   "execution_count": 4,
   "metadata": {
    "executionInfo": {
     "elapsed": 7,
     "status": "ok",
     "timestamp": 1749597262068,
     "user": {
      "displayName": "Renato Fernandes da Silva",
      "userId": "04925174934703783000"
     },
     "user_tz": 180
    },
    "id": "jWF2kTWbGgl9"
   },
   "outputs": [],
   "source": [
    "import numpy as np\n",
    "\n",
    "def contar_palavras(avaliacoes, sentimento):\n",
    "    \"\"\"conta a frequência de cada palavra em avaliações de um dado sentimento.\"\"\"\n",
    "    contagem = {}\n",
    "    for avaliacao, sent in avaliacoes:\n",
    "        if sent == sentimento:\n",
    "            for palavra in avaliacao.lower().split():\n",
    "                if palavra in contagem:\n",
    "                    contagem[palavra] += 1\n",
    "                else:\n",
    "                    contagem[palavra] = 1\n",
    "    return contagem\n",
    "\n",
    "def calcular_probabilidade_sentimento(avaliacoes, sentimento):\n",
    "    \"\"\"calcula a probabilidade de uma avaliação ser de um dado sentimento.\"\"\"\n",
    "    total_avaliacoes = len(avaliacoes)\n",
    "    contagem_sentimento = sum(1 for _, sent in avaliacoes if sent == sentimento)\n",
    "    return contagem_sentimento / total_avaliacoes\n",
    "\n",
    "def calcular_probabilidade_palavra_dado_sentimento(palavra, contagem_palavras, total_palavras_sentimento, total_palavras_vocabulario, alpha=1):\n",
    "    \"\"\"calcula a probabilidade de uma palavra aparecer dado um sentimento (com suavização Laplace).\"\"\"\n",
    "    contagem_palavra = contagem_palavras.get(palavra, 0)\n",
    "    return (contagem_palavra + alpha) / (total_palavras_sentimento + alpha * total_palavras_vocabulario)\n"
   ]
  },
  {
   "cell_type": "markdown",
   "metadata": {
    "id": "MkDHaNI2GrSc"
   },
   "source": [
    "### Etapa 02: Criação da função que calcula a classificação da palavra pertencer a um sentimento"
   ]
  },
  {
   "cell_type": "code",
   "execution_count": 5,
   "metadata": {
    "executionInfo": {
     "elapsed": 6,
     "status": "ok",
     "timestamp": 1749597264617,
     "user": {
      "displayName": "Renato Fernandes da Silva",
      "userId": "04925174934703783000"
     },
     "user_tz": 180
    },
    "id": "gSwmAmS1Gxdz"
   },
   "outputs": [],
   "source": [
    "def classificar_avaliacao(avaliacao, avaliacoes):\n",
    "    \"\"\"Classifica o sentimento de uma nova avaliação usando Naive Bayes.\"\"\"\n",
    "    sentimentos = [\"Positivo\", \"Negativo\"]\n",
    "    probabilidades_sentimento = {}\n",
    "\n",
    "    # Calcular probabilidades a priori dos sentimentos\n",
    "    probabilidades_sentimento[\"Positivo\"] = calcular_probabilidade_sentimento(avaliacoes, \"Positivo\")\n",
    "    probabilidades_sentimento[\"Negativo\"] = calcular_probabilidade_sentimento(avaliacoes, \"Negativo\")\n",
    "\n",
    "    # Contar palavras em cada sentimento\n",
    "    contagem_palavras_positivo = contar_palavras(avaliacoes, \"Positivo\")\n",
    "    contagem_palavras_negativo = contar_palavras(avaliacoes, \"Negativo\")\n",
    "\n",
    "    # Calcular total de palavras em cada sentimento\n",
    "    total_palavras_positivo = sum(contagem_palavras_positivo.values())\n",
    "    total_palavras_negativo = sum(contagem_palavras_negativo.values())\n",
    "\n",
    "    # Calcular tamanho do vocabulário\n",
    "    vocabulario = set()\n",
    "    for avaliacao_, _ in avaliacoes:\n",
    "        for palavra in avaliacao_.lower().split():\n",
    "            vocabulario.add(palavra)\n",
    "    total_palavras_vocabulario = len(vocabulario)\n",
    "\n",
    "    # Calcular probabilidade para cada sentimento\n",
    "    for sentimento in sentimentos:\n",
    "        probabilidade_total = probabilidades_sentimento[sentimento]\n",
    "        contagem_palavras_sentimento = contagem_palavras_positivo if sentimento == \"Positivo\" else contagem_palavras_negativo\n",
    "        total_palavras_sentimento = total_palavras_positivo if sentimento == \"Positivo\" else total_palavras_negativo\n",
    "\n",
    "        for palavra in avaliacao.lower().split():\n",
    "            probabilidade_palavra = calcular_probabilidade_palavra_dado_sentimento(\n",
    "                palavra, contagem_palavras_sentimento, total_palavras_sentimento, total_palavras_vocabulario\n",
    "            )\n",
    "            probabilidade_total *= probabilidade_palavra\n",
    "\n",
    "        probabilidades_sentimento[sentimento] = probabilidade_total\n",
    "\n",
    "    # Classificar com base na maior probabilidade\n",
    "    melhor_sentimento = max(probabilidades_sentimento, key=probabilidades_sentimento.get)\n",
    "    return melhor_sentimento\n"
   ]
  },
  {
   "cell_type": "markdown",
   "metadata": {
    "id": "YkQKU1egG4lN"
   },
   "source": [
    "### Etapa 03 – Fornecimento de um modelo para treinamento"
   ]
  },
  {
   "cell_type": "code",
   "execution_count": null,
   "metadata": {
    "executionInfo": {
     "elapsed": 9,
     "status": "ok",
     "timestamp": 1749597267434,
     "user": {
      "displayName": "Renato Fernandes da Silva",
      "userId": "04925174934703783000"
     },
     "user_tz": 180
    },
    "id": "5oDqwj2gG_R5"
   },
   "outputs": [],
   "source": [
    "avaliacoes = [\n",
    "  (\"Filme incrível! Adorei a atuação.\", \"Positivo\"),\n",
    "\n",
    "  (\"Roteiro fraco, não recomendo.\", \"Negativo\"),\n",
    "\n",
    "  (\"Atuação boa, mas filme longo.\", \"Positivo\"),\n",
    "\n",
    "  (\"Péssimo! Perdi meu tempo.\", \"Negativo\"),\n",
    "]"
   ]
  },
  {
   "cell_type": "markdown",
   "metadata": {
    "id": "0amx52ANHHpJ"
   },
   "source": [
    "### Etapa 04 - Fornecendo um frase para ser avaliada"
   ]
  },
  {
   "cell_type": "code",
   "execution_count": null,
   "metadata": {
    "colab": {
     "base_uri": "https://localhost:8080/"
    },
    "executionInfo": {
     "elapsed": 12745,
     "status": "ok",
     "timestamp": 1749597331354,
     "user": {
      "displayName": "Renato Fernandes da Silva",
      "userId": "04925174934703783000"
     },
     "user_tz": 180
    },
    "id": "fNYs82oMHQWv",
    "outputId": "3584e0ad-8617-423d-eb21-127a821bc85e"
   },
   "outputs": [
    {
     "name": "stdout",
     "output_type": "stream",
     "text": [
      "O que você achou do filme 101 Dálmatas? incrível\n",
      "A avaliação 'incrível' foi classificada como: Positivo\n"
     ]
    }
   ],
   "source": [
    "nova_avaliacao = input(\"O que você achou do filme 101 Dálmatas? \")\n",
    "\n",
    "sentimento = classificar_avaliacao(nova_avaliacao, avaliacoes)\n",
    "\n",
    "print(f\"A avaliação '{nova_avaliacao}' foi classificada como: {sentimento}\")"
   ]
  },
  {
   "cell_type": "markdown",
   "metadata": {
    "id": "4rMx4y6DHYet"
   },
   "source": [
    "### Etapa 05 – Treine com um novo modelo de dados"
   ]
  },
  {
   "cell_type": "code",
   "execution_count": null,
   "metadata": {
    "executionInfo": {
     "elapsed": 46,
     "status": "ok",
     "timestamp": 1749597313052,
     "user": {
      "displayName": "Renato Fernandes da Silva",
      "userId": "04925174934703783000"
     },
     "user_tz": 180
    },
    "id": "Ypappm3rHcBH"
   },
   "outputs": [],
   "source": [
    "avaliacoes = [\n",
    "  (\"Filme incrível! Adorei a atuação, roteiro e direção.\", \"Positivo\"),\n",
    "\n",
    "  (\"Roteiro fraco, atuação ruim, não recomendo. Perda de tempo.\", \"Negativo\"),\n",
    "\n",
    "  (\"Atuação boa, mas filme um pouco longo e arrastado.\", \"Positivo\"),\n",
    "\n",
    "  (\"Péssimo! Perdi meu tempo, dinheiro e paciência. Horrível.\", \"Negativo\"),\n",
    "\n",
    "  (\"Amei! Elenco maravilhoso, fotografia impecável. Recomendo muito!\", \"Positivo\"),\n",
    "\n",
    "  (\"Chato, previsível e sem graça. Saí no meio do filme.\", \"Negativo\"),\n",
    "\n",
    "  (\"Uma obra-prima! Roteiro inteligente, atuações memoráveis.\", \"Positivo\"),\n",
    "\n",
    "  (\"Cansativo, atuações forçadas, final decepcionante.\", \"Negativo\"),\n",
    "\n",
    "  (\"Divertido e emocionante! Ótimo para assistir com a família.\", \"Positivo\"),\n",
    "\n",
    "  (\"Clichê, sem originalidade, diálogos fracos. Não vale a pena.\", \"Negativo\"),\n",
    "\n",
    "  (\"Surpreendente e envolvente! Me prendeu do início ao fim.\", \"Positivo\"),\n",
    "\n",
    "  (\"Confuso, mal dirigido, edição amadora. Um desastre.\", \"Negativo\"),\n",
    "\n",
    "  (\"Atuação excelente, história cativante, trilha sonora perfeita.\", \"Positivo\"),\n",
    "\n",
    "  (\"Atuações medianas, história arrastada, trilha sonora irritante.\", \"Negativo\"),\n",
    "\n",
    "  (\"Roteiro bem construído, diálogos afiados, direção impecável.\", \"Positivo\"),\n",
    "\n",
    "  (\"Roteiro fraco, diálogos bobos, direção perdida.\", \"Negativo\"),\n",
    "\n",
    "  (\"Uma experiência cinematográfica única! Recomendo a todos os amantes do cinema.\", \"Positivo\"),\n",
    "\n",
    "  (\"Um filme esquecível, sem emoção e sem impacto.\", \"Negativo\"),\n",
    "\n",
    "  (\"Comovente e inspirador! Me fez refletir sobre a vida.\", \"Positivo\"),\n",
    "\n",
    "  (\"Decepcionante e frustrante! Não recomendo nem para passar o tempo.\", \"Negativo\"),\n",
    "\n",
    "  (\"Ótimo, gostei muito\",'Positivo')\n",
    "]"
   ]
  }
 ],
 "metadata": {
  "colab": {
   "authorship_tag": "ABX9TyM2flAjnNvMUkcjLtf1ykV7",
   "provenance": []
  },
  "kernelspec": {
   "display_name": "Python 3",
   "name": "python3"
  },
  "language_info": {
   "name": "python"
  }
 },
 "nbformat": 4,
 "nbformat_minor": 0
}
